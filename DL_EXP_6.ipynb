{
  "nbformat": 4,
  "nbformat_minor": 0,
  "metadata": {
    "colab": {
      "provenance": [],
      "authorship_tag": "ABX9TyOFOT1/HUiG2zo3JTWnKj6m",
      "include_colab_link": true
    },
    "kernelspec": {
      "name": "python3",
      "display_name": "Python 3"
    },
    "language_info": {
      "name": "python"
    }
  },
  "cells": [
    {
      "cell_type": "markdown",
      "metadata": {
        "id": "view-in-github",
        "colab_type": "text"
      },
      "source": [
        "<a href=\"https://colab.research.google.com/github/bijivemulasumanthkumarreddy/DEEP_LEARNING-/blob/main/DL_EXP_6.ipynb\" target=\"_parent\"><img src=\"https://colab.research.google.com/assets/colab-badge.svg\" alt=\"Open In Colab\"/></a>"
      ]
    },
    {
      "cell_type": "code",
      "execution_count": null,
      "metadata": {
        "id": "19zHzxiy7PBS"
      },
      "outputs": [],
      "source": [
        "import numpy as np\n",
        "from tensorflow.keras.datasets import reuters\n",
        "from tensorflow.keras.models import Sequential\n",
        "from tensorflow.keras.layers  import Dense,Embedding,LSTM\n",
        "from tensorflow.keras.preprocessing.sequence import pad_sequences\n",
        "from tensorflow.keras.utils import to_categorical\n",
        "from sklearn.model_selection import train_test_split\n"
      ]
    },
    {
      "cell_type": "code",
      "source": [
        "max_words=10000\n",
        "(X_train,y_train),(X_test,y_test)=reuters.load_data(num_words=max_words,test_split=0.2)\n",
        "max_len=100\n",
        "X_train=pad_sequences(X_train,maxlen=max_len)\n",
        "X_test=pad_sequences(X_test,maxlen=max_len)\n",
        "y_train = to_categorical(y_train, num_classes=46)\n",
        "y_test = to_categorical(y_test, num_classes=46)"
      ],
      "metadata": {
        "id": "ZJKgN81q8uAl"
      },
      "execution_count": null,
      "outputs": []
    },
    {
      "cell_type": "code",
      "source": [
        "X_train, X_val, y_train, y_val = train_test_split(X_train, y_train, test_size=0.2,random_state=42)\n",
        "model = Sequential()\n",
        "model.add(Embedding(max_words, 128, input_length=max_len))\n",
        "model.add(LSTM(64, dropout=0.2, recurrent_dropout=0.2))\n",
        "model.add(Dense(46, activation='softmax'))\n",
        "model.compile(optimizer='adam', loss='categorical_crossentropy', metrics=['accuracy'])"
      ],
      "metadata": {
        "id": "wzzqIdWi8uSL"
      },
      "execution_count": null,
      "outputs": []
    },
    {
      "cell_type": "code",
      "source": [
        "epochs = 5\n",
        "batch_size = 32\n",
        "model.fit(X_train, y_train, validation_data=(X_val, y_val),epochs=epochs,batch_size=batch_size)\n",
        "loss, accuracy = model.evaluate(X_test, y_test)\n",
        "print(f\"Test Loss: {loss:.4f}, Test Accuracy: {accuracy:.4f}\")"
      ],
      "metadata": {
        "colab": {
          "base_uri": "https://localhost:8080/"
        },
        "id": "cP83EQMm-JZc",
        "outputId": "ea787c1a-f9b9-4e7a-ffa3-5545f0cb3637"
      },
      "execution_count": null,
      "outputs": [
        {
          "output_type": "stream",
          "name": "stdout",
          "text": [
            "Epoch 1/5\n",
            "225/225 [==============================] - 57s 221ms/step - loss: 2.2816 - accuracy: 0.4349 - val_loss: 1.8884 - val_accuracy: 0.4947\n",
            "Epoch 2/5\n",
            "225/225 [==============================] - 46s 203ms/step - loss: 1.7951 - accuracy: 0.5296 - val_loss: 1.7058 - val_accuracy: 0.5637\n",
            "Epoch 3/5\n",
            "225/225 [==============================] - 46s 204ms/step - loss: 1.6352 - accuracy: 0.5737 - val_loss: 1.6569 - val_accuracy: 0.5648\n",
            "Epoch 4/5\n",
            "225/225 [==============================] - 47s 207ms/step - loss: 1.5003 - accuracy: 0.6122 - val_loss: 1.6757 - val_accuracy: 0.6004\n",
            "Epoch 5/5\n",
            "225/225 [==============================] - 46s 204ms/step - loss: 1.3303 - accuracy: 0.6597 - val_loss: 1.4733 - val_accuracy: 0.6466\n",
            "71/71 [==============================] - 2s 27ms/step - loss: 1.5352 - accuracy: 0.6202\n",
            "Test Loss: 1.5352, Test Accuracy: 0.6202\n"
          ]
        }
      ]
    }
  ]
}