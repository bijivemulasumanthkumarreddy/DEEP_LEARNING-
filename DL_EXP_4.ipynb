{
  "nbformat": 4,
  "nbformat_minor": 0,
  "metadata": {
    "colab": {
      "provenance": [],
      "authorship_tag": "ABX9TyNmkNMW1tNboHrIDgoHge8t",
      "include_colab_link": true
    },
    "kernelspec": {
      "name": "python3",
      "display_name": "Python 3"
    },
    "language_info": {
      "name": "python"
    }
  },
  "cells": [
    {
      "cell_type": "markdown",
      "metadata": {
        "id": "view-in-github",
        "colab_type": "text"
      },
      "source": [
        "<a href=\"https://colab.research.google.com/github/bijivemulasumanthkumarreddy/DEEP_LEARNING-/blob/main/DL_EXP_4.ipynb\" target=\"_parent\"><img src=\"https://colab.research.google.com/assets/colab-badge.svg\" alt=\"Open In Colab\"/></a>"
      ]
    },
    {
      "cell_type": "code",
      "source": [
        "import numpy as np\n",
        "\n",
        "def sigmoid(x):\n",
        "  return 1/(1+np.exp(-x))\n",
        "\n",
        "def sigmoid_derivative(x):\n",
        "  return x*(1-x)"
      ],
      "metadata": {
        "id": "kJWmGyqv9p6w"
      },
      "execution_count": null,
      "outputs": []
    },
    {
      "cell_type": "code",
      "source": [
        "input_size=2\n",
        "hidden_size=3\n",
        "output_size=1\n",
        "learning_rate=0.1"
      ],
      "metadata": {
        "id": "k9rjOUZG9u1K"
      },
      "execution_count": null,
      "outputs": []
    },
    {
      "cell_type": "code",
      "source": [
        "weights_input_hidden=np.random.rand(input_size,hidden_size)\n",
        "biases_hidden=np.zeros((1,hidden_size))\n",
        "weights_hidden_output=np.random.rand(hidden_size,output_size)\n",
        "biases_output=np.zeros((1,output_size))"
      ],
      "metadata": {
        "id": "qjNsT5Lu90rS"
      },
      "execution_count": null,
      "outputs": []
    },
    {
      "cell_type": "code",
      "source": [
        "X=np.array([[0,0],[0,1],[1,0],[1,1]])\n",
        "y=np.array([[0],[1],[1],[0]])"
      ],
      "metadata": {
        "id": "X8OFWuIv97vM"
      },
      "execution_count": null,
      "outputs": []
    },
    {
      "cell_type": "code",
      "execution_count": null,
      "metadata": {
        "colab": {
          "base_uri": "https://localhost:8080/"
        },
        "id": "WQqRIuHf3ybN",
        "outputId": "9a99d448-7b35-4383-d9d8-b8eca20925bb"
      },
      "outputs": [
        {
          "output_type": "stream",
          "name": "stdout",
          "text": [
            "Epoch 0, Loss: 0.1688397503814104\n",
            "Epoch 1000, Loss: 0.12311184364285219\n",
            "Epoch 2000, Loss: 0.11275605589288802\n",
            "Epoch 3000, Loss: 0.08930710471108341\n",
            "Epoch 4000, Loss: 0.0456783486870291\n",
            "Epoch 5000, Loss: 0.012723820779164577\n",
            "Epoch 6000, Loss: 0.005772752417463497\n",
            "Epoch 7000, Loss: 0.0035057887522049504\n",
            "Epoch 8000, Loss: 0.0024575173954067423\n",
            "Epoch 9000, Loss: 0.0018696733450449146\n"
          ]
        }
      ],
      "source": [
        "\n",
        "epochs=10000\n",
        "for epoch in range(epochs):\n",
        "  hidden_layer_input = np.dot(X, weights_input_hidden) + biases_hidden\n",
        "  hidden_layer_output = sigmoid(hidden_layer_input)\n",
        "  output_layer_input = np.dot(hidden_layer_output, weights_hidden_output) + biases_output\n",
        "  predicted_output = sigmoid(output_layer_input)\n",
        "  loss = 0.5*np.mean((y-predicted_output)**2)\n",
        "  output_error=y-predicted_output\n",
        "  output_delta=output_error*sigmoid_derivative(predicted_output)\n",
        "  hidden_layer_error = output_delta.dot(weights_hidden_output.T)\n",
        "  hidden_layer_delta = hidden_layer_error * sigmoid_derivative(hidden_layer_output)\n",
        "  weights_hidden_output += hidden_layer_output.T.dot(output_delta) * learning_rate\n",
        "  biases_output += np.sum(output_delta, axis=0, keepdims=True) * learning_rate\n",
        "  weights_input_hidden += X.T.dot(hidden_layer_delta) * learning_rate\n",
        "  biases_hidden += np.sum(hidden_layer_delta, axis=0, keepdims=True) * learning_rate\n",
        "\n",
        "  if epoch % 1000 == 0:\n",
        "    print(f\"Epoch {epoch}, Loss: {loss}\")"
      ]
    },
    {
      "cell_type": "code",
      "source": [
        "test_input = np.array([[0, 0],\n",
        " [0, 1],\n",
        " [1, 0],\n",
        " [1, 1]])\n",
        "hidden_layer_input_test = np.dot(test_input, weights_input_hidden) + biases_hidden\n",
        "hidden_layer_output_test = sigmoid(hidden_layer_input_test)\n",
        "output_layer_input_test = np.dot(hidden_layer_output_test, weights_hidden_output)+biases_output\n",
        "predicted_output_test = sigmoid(output_layer_input_test)\n",
        "print(\"\\nPredicted Output after Training:\")\n",
        "print(predicted_output_test)"
      ],
      "metadata": {
        "colab": {
          "base_uri": "https://localhost:8080/"
        },
        "id": "FoQp2iZW4HoL",
        "outputId": "cc481bd3-5bd4-416a-9eb7-9ecb0a8ca11a"
      },
      "execution_count": null,
      "outputs": [
        {
          "output_type": "stream",
          "name": "stdout",
          "text": [
            "\n",
            "Predicted Output after Training:\n",
            "[[0.05541258]\n",
            " [0.94712224]\n",
            " [0.94712306]\n",
            " [0.05767822]]\n"
          ]
        }
      ]
    }
  ]
}